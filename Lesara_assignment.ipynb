{
 "cells": [
  {
   "cell_type": "code",
   "execution_count": 1,
   "metadata": {},
   "outputs": [],
   "source": [
    "# pandas to setup the dataframe and logistic regression classifier to be used for making gender predictions\n",
    "import pandas as pd\n",
    "from sklearn.linear_model import LogisticRegression as LR"
   ]
  },
  {
   "cell_type": "code",
   "execution_count": 2,
   "metadata": {},
   "outputs": [],
   "source": [
    "# import the dataset\n",
    "train = pd.read_csv('F:\\\\Lesara\\\\train.csv')\n",
    "test = pd.read_csv('F:\\\\Lesara\\\\test.csv')"
   ]
  },
  {
   "cell_type": "code",
   "execution_count": 3,
   "metadata": {},
   "outputs": [
    {
     "data": {
      "text/plain": [
       "client_id     3000000\n",
       "host_name     3000000\n",
       "page_path     3000000\n",
       "click_time    3000000\n",
       "gender        3000000\n",
       "dtype: int64"
      ]
     },
     "execution_count": 3,
     "metadata": {},
     "output_type": "execute_result"
    }
   ],
   "source": [
    "train.count()"
   ]
  },
  {
   "cell_type": "code",
   "execution_count": 4,
   "metadata": {},
   "outputs": [
    {
     "data": {
      "text/plain": [
       "client_id     742827\n",
       "host_name     742827\n",
       "page_path     742827\n",
       "click_time    742827\n",
       "gender             0\n",
       "dtype: int64"
      ]
     },
     "execution_count": 4,
     "metadata": {},
     "output_type": "execute_result"
    }
   ],
   "source": [
    "test.count()"
   ]
  },
  {
   "cell_type": "code",
   "execution_count": 5,
   "metadata": {},
   "outputs": [
    {
     "data": {
      "text/html": [
       "<div>\n",
       "<style>\n",
       "    .dataframe thead tr:only-child th {\n",
       "        text-align: right;\n",
       "    }\n",
       "\n",
       "    .dataframe thead th {\n",
       "        text-align: left;\n",
       "    }\n",
       "\n",
       "    .dataframe tbody tr th {\n",
       "        vertical-align: top;\n",
       "    }\n",
       "</style>\n",
       "<table border=\"1\" class=\"dataframe\">\n",
       "  <thead>\n",
       "    <tr style=\"text-align: right;\">\n",
       "      <th></th>\n",
       "      <th>client_id</th>\n",
       "      <th>host_name</th>\n",
       "      <th>page_path</th>\n",
       "      <th>click_time</th>\n",
       "      <th>gender</th>\n",
       "    </tr>\n",
       "  </thead>\n",
       "  <tbody>\n",
       "    <tr>\n",
       "      <th>0</th>\n",
       "      <td>ef90dd347a4d9c6ab54b2260c0ead5c52ebe480982aadc...</td>\n",
       "      <td>www.lesara.it</td>\n",
       "      <td>54fc1f523d80f473504ec21537ea4fdfaca8ae7d151a5c...</td>\n",
       "      <td>1502970344047</td>\n",
       "      <td>2</td>\n",
       "    </tr>\n",
       "    <tr>\n",
       "      <th>1</th>\n",
       "      <td>a2b59f5b6e46b21d9a3c73c10ded2c26e705362190d0f5...</td>\n",
       "      <td>www.lesara.it</td>\n",
       "      <td>8a5d4b53854e81fb2b6086d3df16f1ec07f4160a99c172...</td>\n",
       "      <td>1502970344529</td>\n",
       "      <td>2</td>\n",
       "    </tr>\n",
       "    <tr>\n",
       "      <th>2</th>\n",
       "      <td>d2f62a3ec51b100ea6e7338247e1820a6cba30b2ed1e48...</td>\n",
       "      <td>www.lesara.it</td>\n",
       "      <td>cd0ef75ebe8be4785e8ab68b029ee54e376700c3918405...</td>\n",
       "      <td>1502970345265</td>\n",
       "      <td>2</td>\n",
       "    </tr>\n",
       "    <tr>\n",
       "      <th>3</th>\n",
       "      <td>a25bc46af1f58744ea4cc210ad39e3b48c78e632de468a...</td>\n",
       "      <td>www.lesara.it</td>\n",
       "      <td>3f74d8ea5206f388aceaf6ff6a3d9111a1ade37fccb938...</td>\n",
       "      <td>1502970346856</td>\n",
       "      <td>2</td>\n",
       "    </tr>\n",
       "    <tr>\n",
       "      <th>4</th>\n",
       "      <td>4c414b0337a69934083023a82326883f3ba8bfd385d703...</td>\n",
       "      <td>www.lesara.it</td>\n",
       "      <td>a82cd1fe6e31fe07f238d202395c347dc60a6172d2bbfe...</td>\n",
       "      <td>1502970348018</td>\n",
       "      <td>1</td>\n",
       "    </tr>\n",
       "  </tbody>\n",
       "</table>\n",
       "</div>"
      ],
      "text/plain": [
       "                                           client_id      host_name  \\\n",
       "0  ef90dd347a4d9c6ab54b2260c0ead5c52ebe480982aadc...  www.lesara.it   \n",
       "1  a2b59f5b6e46b21d9a3c73c10ded2c26e705362190d0f5...  www.lesara.it   \n",
       "2  d2f62a3ec51b100ea6e7338247e1820a6cba30b2ed1e48...  www.lesara.it   \n",
       "3  a25bc46af1f58744ea4cc210ad39e3b48c78e632de468a...  www.lesara.it   \n",
       "4  4c414b0337a69934083023a82326883f3ba8bfd385d703...  www.lesara.it   \n",
       "\n",
       "                                           page_path     click_time  gender  \n",
       "0  54fc1f523d80f473504ec21537ea4fdfaca8ae7d151a5c...  1502970344047       2  \n",
       "1  8a5d4b53854e81fb2b6086d3df16f1ec07f4160a99c172...  1502970344529       2  \n",
       "2  cd0ef75ebe8be4785e8ab68b029ee54e376700c3918405...  1502970345265       2  \n",
       "3  3f74d8ea5206f388aceaf6ff6a3d9111a1ade37fccb938...  1502970346856       2  \n",
       "4  a82cd1fe6e31fe07f238d202395c347dc60a6172d2bbfe...  1502970348018       1  "
      ]
     },
     "execution_count": 5,
     "metadata": {},
     "output_type": "execute_result"
    }
   ],
   "source": [
    "train.head()"
   ]
  },
  {
   "cell_type": "code",
   "execution_count": 6,
   "metadata": {},
   "outputs": [],
   "source": [
    "# remove click time column as it is not useful for classification\n",
    "del train['click_time']\n",
    "del test['click_time']"
   ]
  },
  {
   "cell_type": "code",
   "execution_count": 8,
   "metadata": {},
   "outputs": [
    {
     "data": {
      "text/plain": [
       "94594"
      ]
     },
     "execution_count": 8,
     "metadata": {},
     "output_type": "execute_result"
    }
   ],
   "source": [
    "train['client_id'].nunique()  # 3 million train records contain mix of 94594 users"
   ]
  },
  {
   "cell_type": "code",
   "execution_count": 9,
   "metadata": {},
   "outputs": [
    {
     "data": {
      "text/plain": [
       "39252"
      ]
     },
     "execution_count": 9,
     "metadata": {},
     "output_type": "execute_result"
    }
   ],
   "source": [
    "test['client_id'].nunique() # close to 0.7 million test records contain mix of 39252 users"
   ]
  },
  {
   "cell_type": "code",
   "execution_count": 10,
   "metadata": {},
   "outputs": [],
   "source": [
    "# check if train and test datasets contain any common users\n",
    "commonusers = test['client_id'].isin(train['client_id'])"
   ]
  },
  {
   "cell_type": "code",
   "execution_count": 12,
   "metadata": {},
   "outputs": [],
   "source": [
    "commonusers.to_csv('commonusers.csv')\n",
    "# no common users found , all false results returned , hence eliminate client_id feature for classification"
   ]
  },
  {
   "cell_type": "code",
   "execution_count": 13,
   "metadata": {},
   "outputs": [],
   "source": [
    "del train['client_id']\n",
    "del test['client_id']"
   ]
  },
  {
   "cell_type": "code",
   "execution_count": 14,
   "metadata": {},
   "outputs": [
    {
     "data": {
      "text/html": [
       "<div>\n",
       "<style>\n",
       "    .dataframe thead tr:only-child th {\n",
       "        text-align: right;\n",
       "    }\n",
       "\n",
       "    .dataframe thead th {\n",
       "        text-align: left;\n",
       "    }\n",
       "\n",
       "    .dataframe tbody tr th {\n",
       "        vertical-align: top;\n",
       "    }\n",
       "</style>\n",
       "<table border=\"1\" class=\"dataframe\">\n",
       "  <thead>\n",
       "    <tr style=\"text-align: right;\">\n",
       "      <th></th>\n",
       "      <th>host_name</th>\n",
       "      <th>page_path</th>\n",
       "      <th>gender</th>\n",
       "    </tr>\n",
       "  </thead>\n",
       "  <tbody>\n",
       "    <tr>\n",
       "      <th>0</th>\n",
       "      <td>www.lesara.it</td>\n",
       "      <td>54fc1f523d80f473504ec21537ea4fdfaca8ae7d151a5c...</td>\n",
       "      <td>2</td>\n",
       "    </tr>\n",
       "    <tr>\n",
       "      <th>1</th>\n",
       "      <td>www.lesara.it</td>\n",
       "      <td>8a5d4b53854e81fb2b6086d3df16f1ec07f4160a99c172...</td>\n",
       "      <td>2</td>\n",
       "    </tr>\n",
       "    <tr>\n",
       "      <th>2</th>\n",
       "      <td>www.lesara.it</td>\n",
       "      <td>cd0ef75ebe8be4785e8ab68b029ee54e376700c3918405...</td>\n",
       "      <td>2</td>\n",
       "    </tr>\n",
       "    <tr>\n",
       "      <th>3</th>\n",
       "      <td>www.lesara.it</td>\n",
       "      <td>3f74d8ea5206f388aceaf6ff6a3d9111a1ade37fccb938...</td>\n",
       "      <td>2</td>\n",
       "    </tr>\n",
       "    <tr>\n",
       "      <th>4</th>\n",
       "      <td>www.lesara.it</td>\n",
       "      <td>a82cd1fe6e31fe07f238d202395c347dc60a6172d2bbfe...</td>\n",
       "      <td>1</td>\n",
       "    </tr>\n",
       "  </tbody>\n",
       "</table>\n",
       "</div>"
      ],
      "text/plain": [
       "       host_name                                          page_path  gender\n",
       "0  www.lesara.it  54fc1f523d80f473504ec21537ea4fdfaca8ae7d151a5c...       2\n",
       "1  www.lesara.it  8a5d4b53854e81fb2b6086d3df16f1ec07f4160a99c172...       2\n",
       "2  www.lesara.it  cd0ef75ebe8be4785e8ab68b029ee54e376700c3918405...       2\n",
       "3  www.lesara.it  3f74d8ea5206f388aceaf6ff6a3d9111a1ade37fccb938...       2\n",
       "4  www.lesara.it  a82cd1fe6e31fe07f238d202395c347dc60a6172d2bbfe...       1"
      ]
     },
     "execution_count": 14,
     "metadata": {},
     "output_type": "execute_result"
    }
   ],
   "source": [
    "train.head()"
   ]
  },
  {
   "cell_type": "code",
   "execution_count": 15,
   "metadata": {},
   "outputs": [
    {
     "data": {
      "text/html": [
       "<div>\n",
       "<style>\n",
       "    .dataframe thead tr:only-child th {\n",
       "        text-align: right;\n",
       "    }\n",
       "\n",
       "    .dataframe thead th {\n",
       "        text-align: left;\n",
       "    }\n",
       "\n",
       "    .dataframe tbody tr th {\n",
       "        vertical-align: top;\n",
       "    }\n",
       "</style>\n",
       "<table border=\"1\" class=\"dataframe\">\n",
       "  <thead>\n",
       "    <tr style=\"text-align: right;\">\n",
       "      <th></th>\n",
       "      <th>host_name</th>\n",
       "      <th>page_path</th>\n",
       "      <th>gender</th>\n",
       "    </tr>\n",
       "  </thead>\n",
       "  <tbody>\n",
       "    <tr>\n",
       "      <th>0</th>\n",
       "      <td>www.lesara.it</td>\n",
       "      <td>91c35d72e63827e1c72b7db820e3d99c9bcd814b1cb2d9...</td>\n",
       "      <td>NaN</td>\n",
       "    </tr>\n",
       "    <tr>\n",
       "      <th>1</th>\n",
       "      <td>www.lesara.it</td>\n",
       "      <td>abdf993a5273b2887f9cbc635e124baf0237e7e1f285da...</td>\n",
       "      <td>NaN</td>\n",
       "    </tr>\n",
       "    <tr>\n",
       "      <th>2</th>\n",
       "      <td>www.lesara.co.uk</td>\n",
       "      <td>b2635717a4c9efb69edb07e6be2dc3f8a3bce36d6cb899...</td>\n",
       "      <td>NaN</td>\n",
       "    </tr>\n",
       "    <tr>\n",
       "      <th>3</th>\n",
       "      <td>www.lesara.it</td>\n",
       "      <td>f526b7f7a6c718c1dafb0f77645402a666faaf25fe2d62...</td>\n",
       "      <td>NaN</td>\n",
       "    </tr>\n",
       "    <tr>\n",
       "      <th>4</th>\n",
       "      <td>www.lesara.it</td>\n",
       "      <td>a889fea5a83488be7c1e4c5ed9fefdf0d5ef41ee3f48ca...</td>\n",
       "      <td>NaN</td>\n",
       "    </tr>\n",
       "  </tbody>\n",
       "</table>\n",
       "</div>"
      ],
      "text/plain": [
       "          host_name                                          page_path  gender\n",
       "0     www.lesara.it  91c35d72e63827e1c72b7db820e3d99c9bcd814b1cb2d9...     NaN\n",
       "1     www.lesara.it  abdf993a5273b2887f9cbc635e124baf0237e7e1f285da...     NaN\n",
       "2  www.lesara.co.uk  b2635717a4c9efb69edb07e6be2dc3f8a3bce36d6cb899...     NaN\n",
       "3     www.lesara.it  f526b7f7a6c718c1dafb0f77645402a666faaf25fe2d62...     NaN\n",
       "4     www.lesara.it  a889fea5a83488be7c1e4c5ed9fefdf0d5ef41ee3f48ca...     NaN"
      ]
     },
     "execution_count": 15,
     "metadata": {},
     "output_type": "execute_result"
    }
   ],
   "source": [
    "test.head()"
   ]
  },
  {
   "cell_type": "code",
   "execution_count": 16,
   "metadata": {},
   "outputs": [],
   "source": [
    "# create the training predictor feature set and class label\n",
    "x_train = pd.get_dummies(train['host_name'],train['page_path'])\n",
    "y_train = train['gender']"
   ]
  },
  {
   "cell_type": "code",
   "execution_count": 17,
   "metadata": {},
   "outputs": [],
   "source": [
    "# create test set and the variable to be predicted\n",
    "x_test = pd.get_dummies(test['host_name'],test['page_path'])\n",
    "y_test = test['gender']"
   ]
  },
  {
   "cell_type": "code",
   "execution_count": 26,
   "metadata": {},
   "outputs": [],
   "source": [
    "# apply logistic regression classifier\n",
    "model = LR(class_weight='balanced')"
   ]
  },
  {
   "cell_type": "code",
   "execution_count": 27,
   "metadata": {},
   "outputs": [
    {
     "data": {
      "text/plain": [
       "LogisticRegression(C=1.0, class_weight='balanced', dual=False,\n",
       "          fit_intercept=True, intercept_scaling=1, max_iter=100,\n",
       "          multi_class='ovr', n_jobs=1, penalty='l2', random_state=None,\n",
       "          solver='liblinear', tol=0.0001, verbose=0, warm_start=False)"
      ]
     },
     "execution_count": 27,
     "metadata": {},
     "output_type": "execute_result"
    }
   ],
   "source": [
    "model.fit(x_train,y_train)"
   ]
  },
  {
   "cell_type": "code",
   "execution_count": 28,
   "metadata": {},
   "outputs": [],
   "source": [
    "# make gender predictions\n",
    "predict = model.predict(x_test)"
   ]
  },
  {
   "cell_type": "code",
   "execution_count": 29,
   "metadata": {},
   "outputs": [
    {
     "data": {
      "text/plain": [
       "array([1, 1, 2, ..., 1, 1, 2], dtype=int64)"
      ]
     },
     "execution_count": 29,
     "metadata": {},
     "output_type": "execute_result"
    }
   ],
   "source": [
    "predict"
   ]
  },
  {
   "cell_type": "code",
   "execution_count": 30,
   "metadata": {},
   "outputs": [
    {
     "data": {
      "text/plain": [
       "742827"
      ]
     },
     "execution_count": 30,
     "metadata": {},
     "output_type": "execute_result"
    }
   ],
   "source": [
    "len(predict)"
   ]
  },
  {
   "cell_type": "code",
   "execution_count": 31,
   "metadata": {},
   "outputs": [],
   "source": [
    "genderpredict = pd.DataFrame(predict)"
   ]
  },
  {
   "cell_type": "code",
   "execution_count": 32,
   "metadata": {},
   "outputs": [],
   "source": [
    "genderpredict.to_csv('gender.csv')"
   ]
  }
 ],
 "metadata": {
  "kernelspec": {
   "display_name": "Python 3",
   "language": "python",
   "name": "python3"
  },
  "language_info": {
   "codemirror_mode": {
    "name": "ipython",
    "version": 3
   },
   "file_extension": ".py",
   "mimetype": "text/x-python",
   "name": "python",
   "nbconvert_exporter": "python",
   "pygments_lexer": "ipython3",
   "version": "3.6.2"
  }
 },
 "nbformat": 4,
 "nbformat_minor": 2
}
